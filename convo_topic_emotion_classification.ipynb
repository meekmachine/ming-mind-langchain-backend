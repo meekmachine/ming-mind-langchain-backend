{
  "cells": [
    {
      "cell_type": "code",
      "execution_count": null,
      "metadata": {
        "id": "9wh-l2k38c2f"
      },
      "outputs": [],
      "source": [
        "!pip install bertopic\n",
        "!pip install convokit\n",
        "!pip install langchain\n",
        "!pip install transformers\n",
        "!pip install firebase-admin\n",
        "!pip install transformers"
      ]
    },
    {
      "cell_type": "code",
      "execution_count": null,
      "metadata": {
        "id": "r7kCRzgJ9qFL"
      },
      "outputs": [],
      "source": [
        "from bertopic import BERTopic\n",
        "from convokit import Corpus, download\n",
        "import pandas as pd\n",
        "import numpy as np\n",
        "from langchain.llms import HuggingFaceHub\n",
        "import os\n",
        "from transformers import pipeline\n",
        "import firebase_admin\n",
        "from firebase_admin import credentials, firestore, initialize_app, storage\n",
        "from transformers import pipeline\n",
        "import matplotlib.pyplot as plt"
      ]
    },
    {
      "cell_type": "code",
      "execution_count": null,
      "metadata": {
        "colab": {
          "base_uri": "https://localhost:8080/"
        },
        "id": "FjmZjVm-RSD5",
        "outputId": "c4ce05f4-0470-435e-c17c-cfacf1f6ca52"
      },
      "outputs": [
        {
          "output_type": "execute_result",
          "data": {
            "text/plain": [
              "<firebase_admin.App at 0x7e49d039b070>"
            ]
          },
          "metadata": {},
          "execution_count": 7
        }
      ],
      "source": [
        "cred = credentials.Certificate(\"/content/ming-527ed-firebase-adminsdk-z38ui-431c72dad9.json\")\n",
        "firebase_admin.initialize_app(cred)"
      ]
    },
    {
      "cell_type": "code",
      "execution_count": null,
      "metadata": {
        "id": "DXvNcmZ2UhxV"
      },
      "outputs": [],
      "source": [
        "db = firestore.client()"
      ]
    },
    {
      "cell_type": "markdown",
      "metadata": {
        "id": "8ieZHySip9qm"
      },
      "source": [
        "# Loading Corpus"
      ]
    },
    {
      "cell_type": "code",
      "execution_count": null,
      "metadata": {
        "colab": {
          "base_uri": "https://localhost:8080/"
        },
        "id": "YDuRcbSP9i5k",
        "outputId": "23cdc302-4353-4886-f8e0-1466b4f28227"
      },
      "outputs": [
        {
          "output_type": "stream",
          "name": "stdout",
          "text": [
            "Downloading conversations-gone-awry-corpus to /root/.convokit/downloads/conversations-gone-awry-corpus\n",
            "Downloading conversations-gone-awry-corpus from http://zissou.infosci.cornell.edu/convokit/datasets/conversations-gone-awry-corpus/conversations-gone-awry-corpus.zip (45.2MB)... Done\n",
            "No configuration file found at /root/.convokit/config.yml; writing with contents: \n",
            "# Default Backend Parameters\n",
            "db_host: localhost:27017\n",
            "data_directory: ~/.convokit/saved-corpora\n",
            "default_backend: mem\n"
          ]
        }
      ],
      "source": [
        "corpus = Corpus(filename=download(\"conversations-gone-awry-corpus\"))"
      ]
    },
    {
      "cell_type": "code",
      "execution_count": null,
      "metadata": {
        "id": "4e-S8ho-8GUi"
      },
      "outputs": [],
      "source": [
        "conversations_df = corpus.get_conversations_dataframe()\n",
        "utterances_df = corpus.get_utterances_dataframe()\n",
        "speakers_df = corpus.get_speakers_dataframe()"
      ]
    },
    {
      "cell_type": "code",
      "execution_count": null,
      "metadata": {
        "id": "Dz8jzn9QpsZs"
      },
      "outputs": [],
      "source": [
        "utterances_df"
      ]
    },
    {
      "cell_type": "code",
      "execution_count": null,
      "metadata": {
        "id": "Fxq63Pwx-zH7"
      },
      "outputs": [],
      "source": [
        "class EmotionAnalysis:\n",
        "    def __init__(self):\n",
        "        self.classifier = pipeline(task=\"text-classification\", model=\"SamLowe/roberta-base-go_emotions\", top_k=None,device=0)\n",
        "        self.emotion_dict = {\n",
        "            'admiration': '😍',\n",
        "            'amusement': '😄',\n",
        "            'anger': '😡',\n",
        "            'annoyance': '😒',\n",
        "            'approval': '👍',\n",
        "            'caring': '❤️',\n",
        "            'confusion': '😕',\n",
        "            'curiosity': '🤔',\n",
        "            'desire': '😏',\n",
        "            'disappointment': '😞',\n",
        "            'disapproval': '👎',\n",
        "            'disgust': '🤢',\n",
        "            'embarrassment': '😳',\n",
        "            'excitement': '😃',\n",
        "            'fear': '😨',\n",
        "            'gratitude': '🙏',\n",
        "            'grief': '😢',\n",
        "            'joy': '😁',\n",
        "            'love': '❤️',\n",
        "            'nervousness': '😬',\n",
        "            'neutral': '😐',\n",
        "            'optimism': '😊',\n",
        "            'pride': '🏆',\n",
        "            'realization': '💡',\n",
        "            'relief': '😌',\n",
        "            'remorse': '😔',\n",
        "            'sadness': '😢',\n",
        "            'surprise': '😲'\n",
        "        }\n",
        "\n",
        "    def __call__(self, sentences):\n",
        "        #if sentences == \"\" or sentences == []:\n",
        "           # return\n",
        "\n",
        "        if isinstance(sentences, str):\n",
        "            sentences = [sentences]\n",
        "\n",
        "        for i, sentence in enumerate(sentences):\n",
        "            if len(sentence) > 512:\n",
        "                sentences[i] = sentence[-512:]\n",
        "\n",
        "\n",
        "        model_outputs = self.classifier(sentences)\n",
        "        emotion = model_outputs[0][0]['label']\n",
        "        if emotion == 'neutral':\n",
        "            emotion = model_outputs[0][1]['label']\n",
        "        emoji = self.emotion_dict[emotion]\n",
        "        return model_outputs, emotion, emoji"
      ]
    },
    {
      "cell_type": "code",
      "execution_count": null,
      "metadata": {
        "id": "dvPVBK_W_q-K"
      },
      "outputs": [],
      "source": [
        "classifier = EmotionAnalysis()\n"
      ]
    },
    {
      "cell_type": "code",
      "execution_count": null,
      "metadata": {
        "id": "b-YNOqn39_Im"
      },
      "outputs": [],
      "source": [
        "def process_conversations(conversations_df, utterances_df, speakers_df):\n",
        "    # Filter and merge dataframes\n",
        "    merged_df = pd.merge(utterances_df, speakers_df, left_on='speaker', right_index=True)\n",
        "    merged_df = pd.merge(merged_df, conversations_df, left_on='conversation_id', right_index=True)\n",
        "\n",
        "    # Process each conversation\n",
        "\n",
        "    convo_records = []\n",
        "    convo_texts = []\n",
        "    convo_speakers = {}\n",
        "    convo_speakers_texts = {}\n",
        "    for convo_id, convo_data in merged_df.groupby('conversation_id'):\n",
        "        # Calculate total personal attacks and average toxicity\n",
        "        total_attacks = convo_data['meta.comment_has_personal_attack'].sum()\n",
        "        avg_toxicity = convo_data['meta.toxicity'].mean()\n",
        "\n",
        "        # Get conversation start time\n",
        "        start_time = convo_data['timestamp'].min()\n",
        "\n",
        "        # Calculate embeddings for the conversation\n",
        "        convo_text = ' '.join(convo_data['text'].tolist())\n",
        "        #embeddings = calculate_embeddings(convo_text)\n",
        "\n",
        "        # Prepare data for Firebase\n",
        "        convo_record = {\n",
        "            'convo_id': convo_id,\n",
        "            'total_personal_attacks': total_attacks,\n",
        "            'average_toxicity': avg_toxicity,\n",
        "            'start_time': start_time,\n",
        "            #'embeddings': embeddings,\n",
        "            # Include additional metadata as needed\n",
        "        }\n",
        "\n",
        "        # Get speakers\n",
        "        speakers = []\n",
        "        speaker_texts = {}\n",
        "        for speaker_id, speaker_data in convo_data.groupby('speaker'):\n",
        "            speaker_text = ' '.join(speaker_data['text'].tolist())\n",
        "\n",
        "            speaker_texts[speaker_id] = speaker_text\n",
        "            a ,speaker_emotion, speaker_emoji = classifier(speaker_text)\n",
        "            speaker_record = {\n",
        "                'speaker_id': speaker_id,\n",
        "                'emotion': speaker_emotion,\n",
        "                'emoji': speaker_emoji,\n",
        "                # Include additional metadata as\n",
        "            }\n",
        "            speakers.append(speaker_record)\n",
        "\n",
        "        #convo_speakers.append(convo_speaker)\n",
        "        convo_speakers_texts[convo_id] =  speaker_texts\n",
        "        convo_speakers[convo_id] = speakers\n",
        "\n",
        "        convo_texts.append(convo_text)\n",
        "        convo_records.append(convo_record)\n",
        "        # Save to Firebase\n",
        "        #db.collection('conversations').document(convo_id).set(convo_record)\n",
        "\n",
        "    print(\"Processed Convo Texts\")\n",
        "    return convo_records, convo_texts, convo_speakers, convo_speakers_texts"
      ]
    },
    {
      "cell_type": "markdown",
      "metadata": {
        "id": "jwpm65s6K1D3"
      },
      "source": [
        "meaningfull labels\n",
        "similarities for the clusters\n",
        "emotions model to work on classifying speakers on emotions. then turn the emotions\n",
        "\n",
        "\n"
      ]
    },
    {
      "cell_type": "code",
      "execution_count": null,
      "metadata": {
        "colab": {
          "base_uri": "https://localhost:8080/"
        },
        "id": "LDC5O2e_-Jym",
        "outputId": "6e2c0763-41ff-4eef-8b7d-2d5af2123f79"
      },
      "outputs": [
        {
          "output_type": "stream",
          "name": "stdout",
          "text": [
            "Processed Convo Texts\n"
          ]
        }
      ],
      "source": [
        "convo_records, convo_texts, convo_speakers, convo_speakers_text  = process_conversations(conversations_df, utterances_df, speakers_df) #.head(1000)"
      ]
    },
    {
      "cell_type": "code",
      "source": [
        "convo_id = convo_records[0][\"convo_id\"]"
      ],
      "metadata": {
        "id": "tCdPEU6chOwM"
      },
      "execution_count": null,
      "outputs": []
    },
    {
      "cell_type": "code",
      "source": [
        "merged_df = pd.merge(utterances_df, speakers_df, left_on='speaker', right_index=True)\n",
        "merged_df = pd.merge(merged_df, conversations_df, left_on='conversation_id', right_index=True)\n",
        "\n",
        "df = merged_df[merged_df['conversation_id'] == convo_id ].sort_values('timestamp', ascending=True)\n",
        "\n",
        "df"
      ],
      "metadata": {
        "id": "KbSv7J5BhHWc"
      },
      "execution_count": null,
      "outputs": []
    },
    {
      "cell_type": "code",
      "source": [
        "convo_records[0][\"convo_id\"]"
      ],
      "metadata": {
        "colab": {
          "base_uri": "https://localhost:8080/",
          "height": 36
        },
        "id": "-xQj1f6lenNU",
        "outputId": "1dcc8b18-3eac-4b4e-bf5c-c334dc3f15ae"
      },
      "execution_count": null,
      "outputs": [
        {
          "output_type": "execute_result",
          "data": {
            "text/plain": [
              "'100009118.8296.8296'"
            ],
            "application/vnd.google.colaboratory.intrinsic+json": {
              "type": "string"
            }
          },
          "metadata": {},
          "execution_count": 32
        }
      ]
    },
    {
      "cell_type": "code",
      "source": [
        "corpus.get_conversation(convo_records[0][\"convo_id\"])"
      ],
      "metadata": {
        "colab": {
          "base_uri": "https://localhost:8080/"
        },
        "id": "68fgFwY3fERm",
        "outputId": "fbcebb38-1770-4645-81cc-305c6f5d59f5"
      },
      "execution_count": null,
      "outputs": [
        {
          "output_type": "execute_result",
          "data": {
            "text/plain": [
              "Conversation({'obj_type': 'conversation', 'vectors': [], 'tree': None, 'owner': <convokit.model.corpus.Corpus object at 0x7e4b5c5c3f40>, 'id': '100009118.8296.8296', 'meta': ConvoKitMeta({'page_title': 'User talk:Hiding', 'page_id': 1736103, 'pair_id': '97814179.5675.5675', 'conversation_has_personal_attack': True, 'verified': True, 'pair_verified': True, 'annotation_year': '2018', 'split': 'train'})})"
            ]
          },
          "metadata": {},
          "execution_count": 24
        }
      ]
    },
    {
      "cell_type": "code",
      "source": [
        "corpus.get_conversation(\"407508250.100949.100949\")"
      ],
      "metadata": {
        "colab": {
          "base_uri": "https://localhost:8080/"
        },
        "id": "TruyaKqJfQPa",
        "outputId": "0df870c3-43e8-4925-b222-c0064b7faf84"
      },
      "execution_count": null,
      "outputs": [
        {
          "output_type": "execute_result",
          "data": {
            "text/plain": [
              "Conversation({'obj_type': 'conversation', 'vectors': [], 'tree': None, 'owner': <convokit.model.corpus.Corpus object at 0x7e4b5c5c3f40>, 'id': '407508250.100949.100949', 'meta': ConvoKitMeta({'page_title': 'Talk:Centrifugal force (rotating reference frame)', 'page_id': 7533, 'pair_id': '407511340.101821.101821', 'conversation_has_personal_attack': True, 'verified': False, 'pair_verified': False, 'annotation_year': '2019', 'split': 'val'})})"
            ]
          },
          "metadata": {},
          "execution_count": 27
        }
      ]
    },
    {
      "cell_type": "code",
      "execution_count": null,
      "metadata": {
        "colab": {
          "base_uri": "https://localhost:8080/"
        },
        "id": "xEcUnSJMdIq1",
        "outputId": "1f325f94-9ca7-404e-e1af-296c1b430a9c"
      },
      "outputs": [
        {
          "data": {
            "text/plain": [
              "[{'speaker_id': 'Ammar shaker', 'emotion': 'remorse', 'emoji': '😔'},\n",
              " {'speaker_id': 'Dino246', 'emotion': 'confusion', 'emoji': '😕'},\n",
              " {'speaker_id': 'Typ932', 'emotion': 'confusion', 'emoji': '😕'}]"
            ]
          },
          "execution_count": 91,
          "metadata": {},
          "output_type": "execute_result"
        }
      ],
      "source": [
        "convo_speakers['182614870.5054.5054']"
      ]
    },
    {
      "cell_type": "code",
      "execution_count": null,
      "metadata": {
        "colab": {
          "base_uri": "https://localhost:8080/"
        },
        "id": "laVvd6JE9Qmq",
        "outputId": "1f337a74-2563-4ad0-de81-63e1d88bf423"
      },
      "outputs": [
        {
          "data": {
            "text/plain": [
              "{'216.21.150.44': ' I have read through all of the dialogue from the music project. There are almost 20 regular editors and use comma delimiters as their standard spacing and 2 regular editors who were involved in an edit war over the matter and have both received blocks from Wikipedia administration because of their negative contributions. I will go with the consensus of the credible editors and not the others.',\n",
              " 'Navnløs': \"\\n== Genre delimiters ==  Please stop changing genre delimiters. Consensus is to leave them the way they are now.  Changing them incites edit warring.  I could just as easliy cite wiki_link and put them back to line breaks.  So citing wiki_link for genre delimiters changes nothing. Please stop.  Thank you.  That is a downright lie, unless you're talking about recently (which I wouldn't know as I no longer argue about those stupid things), but I know there was a consensus made (that the majority of editors follow, incl. admins) to not change genre delimiters as it only incites edit wars.  Those pages were fine until you came along and decided to change their delimiters for no reason. They've been like that for months.  I just wanna keep the peace and keep the delimiters the same on all pages (whether they be comma breaks or line breaks). You'' are threatening that peace.  Idk where you were the last time the genre delimiter edit war was in full swing, but it was horrible and I don't wanna go back to those days!!  It was total fucking chaos. Everybody was so busy warring that less and less actual editing got done.\"}"
            ]
          },
          "execution_count": 24,
          "metadata": {},
          "output_type": "execute_result"
        }
      ],
      "source": [
        "convo_speakers_text['204073727.3013.3013']"
      ]
    },
    {
      "cell_type": "code",
      "execution_count": null,
      "metadata": {
        "colab": {
          "base_uri": "https://localhost:8080/"
        },
        "id": "hIV_mb7w7fdV",
        "outputId": "094f1220-55c9-498a-829b-0ddf027e444f"
      },
      "outputs": [
        {
          "data": {
            "text/plain": [
              "[{'speaker_id': 'Karasek', 'emotion': 'amusement', 'emoji': '😄'},\n",
              " {'speaker_id': 'Matthead', 'emotion': 'neutral', 'emoji': '😐'},\n",
              " {'speaker_id': 'Molobo', 'emotion': 'curiosity', 'emoji': '🤔'},\n",
              " {'speaker_id': 'Xx236', 'emotion': 'confusion', 'emoji': '😕'}]"
            ]
          },
          "execution_count": 16,
          "metadata": {},
          "output_type": "execute_result"
        }
      ],
      "source": [
        "convo_speakers['211754039.54581.54581']"
      ]
    },
    {
      "cell_type": "markdown",
      "metadata": {
        "id": "GvhGDQ67qEi9"
      },
      "source": [
        "# Do Clustering"
      ]
    },
    {
      "cell_type": "code",
      "execution_count": null,
      "metadata": {
        "id": "B2rFmGt6-qdx"
      },
      "outputs": [],
      "source": [
        "from sklearn.feature_extraction.text import CountVectorizer\n",
        "vectorizer_model = CountVectorizer(stop_words=\"english\")\n",
        "topic_model = BERTopic(embedding_model=\"all-MiniLM-L6-v2\",vectorizer_model=vectorizer_model,nr_topics=100)#calculate_probabilities=True)"
      ]
    },
    {
      "cell_type": "code",
      "execution_count": null,
      "metadata": {
        "id": "nh0Uvgzh-sTh"
      },
      "outputs": [],
      "source": [
        "topics, probs = topic_model.fit_transform(convo_texts)\n",
        "new_topics = topic_model.reduce_outliers(convo_texts, topics, strategy=\"c-tf-idf\")\n",
        "new_topics = topic_model.reduce_outliers(convo_texts, topics, strategy=\"distributions\")\n",
        "new_topics = topic_model.reduce_outliers(convo_texts, topics, strategy=\"embeddings\")"
      ]
    },
    {
      "cell_type": "code",
      "execution_count": null,
      "metadata": {
        "colab": {
          "base_uri": "https://localhost:8080/",
          "height": 1000
        },
        "id": "oTRg0ARBx8xL",
        "outputId": "fffac017-7abd-4e0b-d646-c8ce2fda9da3"
      },
      "outputs": [
        {
          "data": {
            "text/html": [
              "\n",
              "  <div id=\"df-f1d04961-03db-4f68-a5a0-6c29e87f4881\" class=\"colab-df-container\">\n",
              "    <div>\n",
              "<style scoped>\n",
              "    .dataframe tbody tr th:only-of-type {\n",
              "        vertical-align: middle;\n",
              "    }\n",
              "\n",
              "    .dataframe tbody tr th {\n",
              "        vertical-align: top;\n",
              "    }\n",
              "\n",
              "    .dataframe thead th {\n",
              "        text-align: right;\n",
              "    }\n",
              "</style>\n",
              "<table border=\"1\" class=\"dataframe\">\n",
              "  <thead>\n",
              "    <tr style=\"text-align: right;\">\n",
              "      <th></th>\n",
              "      <th>Topic</th>\n",
              "      <th>Count</th>\n",
              "      <th>Name</th>\n",
              "      <th>Representation</th>\n",
              "      <th>Representative_Docs</th>\n",
              "    </tr>\n",
              "  </thead>\n",
              "  <tbody>\n",
              "    <tr>\n",
              "      <th>0</th>\n",
              "      <td>-1</td>\n",
              "      <td>1762</td>\n",
              "      <td>-1_article_just_page_sources</td>\n",
              "      <td>[article, just, page, sources, wikipedia, like...</td>\n",
              "      <td>[And after that debate, the article was left w...</td>\n",
              "    </tr>\n",
              "    <tr>\n",
              "      <th>1</th>\n",
              "      <td>0</td>\n",
              "      <td>12</td>\n",
              "      <td>0_muhammad_depictions_images_image</td>\n",
              "      <td>[muhammad, depictions, images, image, pictures...</td>\n",
              "      <td>[Any attempt at religious censorship will be r...</td>\n",
              "    </tr>\n",
              "    <tr>\n",
              "      <th>2</th>\n",
              "      <td>1</td>\n",
              "      <td>122</td>\n",
              "      <td>1_image_images_picture_photo</td>\n",
              "      <td>[image, images, picture, photo, use, pictures,...</td>\n",
              "      <td>[Why would one need photoshop to create an acc...</td>\n",
              "    </tr>\n",
              "    <tr>\n",
              "      <th>3</th>\n",
              "      <td>2</td>\n",
              "      <td>21</td>\n",
              "      <td>2_al_rebels_sohr_nusra</td>\n",
              "      <td>[al, rebels, sohr, nusra, map, pro, masdar, re...</td>\n",
              "      <td>[translation from sohr eng: http://syriahr.com...</td>\n",
              "    </tr>\n",
              "    <tr>\n",
              "      <th>4</th>\n",
              "      <td>3</td>\n",
              "      <td>70</td>\n",
              "      <td>3_medical_diet_disease_research</td>\n",
              "      <td>[medical, diet, disease, research, doctors, ef...</td>\n",
              "      <td>[To be picky MEDRS is not quite \"a guideline f...</td>\n",
              "    </tr>\n",
              "    <tr>\n",
              "      <th>5</th>\n",
              "      <td>4</td>\n",
              "      <td>24</td>\n",
              "      <td>4_chinese_japanese_goguryeo_korean</td>\n",
              "      <td>[chinese, japanese, goguryeo, korean, china, k...</td>\n",
              "      <td>[Those \"chapters\" are further elaborations for...</td>\n",
              "    </tr>\n",
              "    <tr>\n",
              "      <th>6</th>\n",
              "      <td>5</td>\n",
              "      <td>15</td>\n",
              "      <td>5_rfc_pejorative_requests_for_comment_correctness</td>\n",
              "      <td>[rfc, pejorative, requests_for_comment, correc...</td>\n",
              "      <td>[RfC has become pointless due to heave off-Wik...</td>\n",
              "    </tr>\n",
              "    <tr>\n",
              "      <th>7</th>\n",
              "      <td>6</td>\n",
              "      <td>41</td>\n",
              "      <td>6_species_subspecies_reptile_tortoise</td>\n",
              "      <td>[species, subspecies, reptile, tortoise, creat...</td>\n",
              "      <td>[Just a comment on this issueEditors on scienc...</td>\n",
              "    </tr>\n",
              "    <tr>\n",
              "      <th>8</th>\n",
              "      <td>7</td>\n",
              "      <td>14</td>\n",
              "      <td>7_station_stations_square_gateway</td>\n",
              "      <td>[station, stations, square, gateway, railway, ...</td>\n",
              "      <td>[Maiden Lane, GNR. Temporary terminus from 8 A...</td>\n",
              "    </tr>\n",
              "    <tr>\n",
              "      <th>9</th>\n",
              "      <td>8</td>\n",
              "      <td>23</td>\n",
              "      <td>8_china_taiwan_roc_align</td>\n",
              "      <td>[china, taiwan, roc, align, manchuria, 000, ma...</td>\n",
              "      <td>[Please don't add some fringe interpretation o...</td>\n",
              "    </tr>\n",
              "    <tr>\n",
              "      <th>10</th>\n",
              "      <td>9</td>\n",
              "      <td>35</td>\n",
              "      <td>9_wwe_undertaker_match_wrestling</td>\n",
              "      <td>[wwe, undertaker, match, wrestling, matches, w...</td>\n",
              "      <td>[Yeah, but for the sake of being accurate WWE ...</td>\n",
              "    </tr>\n",
              "    <tr>\n",
              "      <th>11</th>\n",
              "      <td>10</td>\n",
              "      <td>95</td>\n",
              "      <td>10_club_football_team_players</td>\n",
              "      <td>[club, football, team, players, player, teams,...</td>\n",
              "      <td>[Until the situation regarding this article an...</td>\n",
              "    </tr>\n",
              "    <tr>\n",
              "      <th>12</th>\n",
              "      <td>11</td>\n",
              "      <td>17</td>\n",
              "      <td>11_hrf_rain_mulholland_oppose</td>\n",
              "      <td>[hrf, rain, mulholland, oppose, requested, com...</td>\n",
              "      <td>[ Move?  \\n''The following discussion is an ar...</td>\n",
              "    </tr>\n",
              "    <tr>\n",
              "      <th>13</th>\n",
              "      <td>12</td>\n",
              "      <td>13</td>\n",
              "      <td>12_communist_communism_capitalist_capitalism</td>\n",
              "      <td>[communist, communism, capitalist, capitalism,...</td>\n",
              "      <td>[What's wrong with speaking of Cuba and all as...</td>\n",
              "    </tr>\n",
              "    <tr>\n",
              "      <th>14</th>\n",
              "      <td>13</td>\n",
              "      <td>16</td>\n",
              "      <td>13_anarchism_anarcho_anarchist_anarchists</td>\n",
              "      <td>[anarchism, anarcho, anarchist, anarchists, ca...</td>\n",
              "      <td>[  By this standard all societies, by definiti...</td>\n",
              "    </tr>\n",
              "    <tr>\n",
              "      <th>15</th>\n",
              "      <td>14</td>\n",
              "      <td>177</td>\n",
              "      <td>14_metal_rock_band_music</td>\n",
              "      <td>[metal, rock, band, music, album, song, bands,...</td>\n",
              "      <td>[ Wikiproject collaboration  All right, I just...</td>\n",
              "    </tr>\n",
              "    <tr>\n",
              "      <th>16</th>\n",
              "      <td>15</td>\n",
              "      <td>102</td>\n",
              "      <td>15_christian_christ_jesus_god</td>\n",
              "      <td>[christian, christ, jesus, god, religious, bib...</td>\n",
              "      <td>[That clarifies who it is, but will add source...</td>\n",
              "    </tr>\n",
              "    <tr>\n",
              "      <th>17</th>\n",
              "      <td>16</td>\n",
              "      <td>43</td>\n",
              "      <td>16_engine_windows_linux_rotary</td>\n",
              "      <td>[engine, windows, linux, rotary, gnu, kernel, ...</td>\n",
              "      <td>[Well, now this is interesting.  It's an inter...</td>\n",
              "    </tr>\n",
              "    <tr>\n",
              "      <th>18</th>\n",
              "      <td>17</td>\n",
              "      <td>192</td>\n",
              "      <td>17_film_characters_character_episode</td>\n",
              "      <td>[film, characters, character, episode, series,...</td>\n",
              "      <td>[Clean Up Suggestions I've removed the most ob...</td>\n",
              "    </tr>\n",
              "    <tr>\n",
              "      <th>19</th>\n",
              "      <td>18</td>\n",
              "      <td>16</td>\n",
              "      <td>18_grg_age_date_august</td>\n",
              "      <td>[grg, age, date, august, birthday, 110, oldest...</td>\n",
              "      <td>[Both.  I would personally leave the infobox b...</td>\n",
              "    </tr>\n",
              "    <tr>\n",
              "      <th>20</th>\n",
              "      <td>19</td>\n",
              "      <td>27</td>\n",
              "      <td>19_warming_climate_global_greenhouse</td>\n",
              "      <td>[warming, climate, global, greenhouse, gases, ...</td>\n",
              "      <td>[ Traditionally, this article has been a place...</td>\n",
              "    </tr>\n",
              "    <tr>\n",
              "      <th>21</th>\n",
              "      <td>20</td>\n",
              "      <td>49</td>\n",
              "      <td>20_science_scientific_evolution_agnosticism</td>\n",
              "      <td>[science, scientific, evolution, agnosticism, ...</td>\n",
              "      <td>[ New Criticism section  I have added a new se...</td>\n",
              "    </tr>\n",
              "    <tr>\n",
              "      <th>22</th>\n",
              "      <td>21</td>\n",
              "      <td>13</td>\n",
              "      <td>21_speed_clocks_light_postulate</td>\n",
              "      <td>[speed, clocks, light, postulate, clock, einst...</td>\n",
              "      <td>[I have added a sourced statement. That should...</td>\n",
              "    </tr>\n",
              "    <tr>\n",
              "      <th>23</th>\n",
              "      <td>22</td>\n",
              "      <td>34</td>\n",
              "      <td>22_units_unit_numbers_si</td>\n",
              "      <td>[units, unit, numbers, si, number, natural, ph...</td>\n",
              "      <td>[The problem with the use of atmospheres as a ...</td>\n",
              "    </tr>\n",
              "    <tr>\n",
              "      <th>24</th>\n",
              "      <td>23</td>\n",
              "      <td>19</td>\n",
              "      <td>23_rifle_lee_gunpowder_rifles</td>\n",
              "      <td>[rifle, lee, gunpowder, rifles, clip, assault,...</td>\n",
              "      <td>[Thanks for the note.  You are incorrect.  The...</td>\n",
              "    </tr>\n",
              "    <tr>\n",
              "      <th>25</th>\n",
              "      <td>24</td>\n",
              "      <td>22</td>\n",
              "      <td>24_tag_tags_bot_article</td>\n",
              "      <td>[tag, tags, bot, article, discussion, disputed...</td>\n",
              "      <td>[Are you sure you understand the tags you've p...</td>\n",
              "    </tr>\n",
              "    <tr>\n",
              "      <th>26</th>\n",
              "      <td>25</td>\n",
              "      <td>51</td>\n",
              "      <td>25_persian_arab_iranian_assyrians</td>\n",
              "      <td>[persian, arab, iranian, assyrians, assyrian, ...</td>\n",
              "      <td>[ Question  I know this page focuses on modern...</td>\n",
              "    </tr>\n",
              "    <tr>\n",
              "      <th>27</th>\n",
              "      <td>26</td>\n",
              "      <td>34</td>\n",
              "      <td>26_islam_muhammad_muslim_muslims</td>\n",
              "      <td>[islam, muhammad, muslim, muslims, islamic, na...</td>\n",
              "      <td>[Picking up for Anthony:\\n no longer in this a...</td>\n",
              "    </tr>\n",
              "    <tr>\n",
              "      <th>28</th>\n",
              "      <td>27</td>\n",
              "      <td>38</td>\n",
              "      <td>27_hindu_india_caste_hinduism</td>\n",
              "      <td>[hindu, india, caste, hinduism, ayyavazhi, rel...</td>\n",
              "      <td>[You might want to see this for the extent of ...</td>\n",
              "    </tr>\n",
              "    <tr>\n",
              "      <th>29</th>\n",
              "      <td>28</td>\n",
              "      <td>24</td>\n",
              "      <td>28_james_royal_king_family</td>\n",
              "      <td>[james, royal, king, family, dr, buckingham, h...</td>\n",
              "      <td>[ Parker-Bowles Children  On what basis are th...</td>\n",
              "    </tr>\n",
              "    <tr>\n",
              "      <th>30</th>\n",
              "      <td>29</td>\n",
              "      <td>10</td>\n",
              "      <td>29_citizenship_li_citizen_permanent</td>\n",
              "      <td>[citizenship, li, citizen, permanent, national...</td>\n",
              "      <td>[\\n== Providing \"Proof\" of American Indian anc...</td>\n",
              "    </tr>\n",
              "    <tr>\n",
              "      <th>31</th>\n",
              "      <td>30</td>\n",
              "      <td>35</td>\n",
              "      <td>30_pedophilia_sexual_disorder_gay</td>\n",
              "      <td>[pedophilia, sexual, disorder, gay, dsm, age, ...</td>\n",
              "      <td>[A few thoughts, in no particular order. \"Homo...</td>\n",
              "    </tr>\n",
              "    <tr>\n",
              "      <th>32</th>\n",
              "      <td>31</td>\n",
              "      <td>12</td>\n",
              "      <td>31_wiki_link_ve_foyle_fw</td>\n",
              "      <td>[wiki_link, ve, foyle, fw, work, spelling, ino...</td>\n",
              "      <td>[== [WIKI_LINK: Wikipedia:WikiProject_NCSLC|Wi...</td>\n",
              "    </tr>\n",
              "    <tr>\n",
              "      <th>33</th>\n",
              "      <td>32</td>\n",
              "      <td>32</td>\n",
              "      <td>32_israel_palestinian_jerusalem_palestine</td>\n",
              "      <td>[israel, palestinian, jerusalem, palestine, is...</td>\n",
              "      <td>[Thanks for clearing that up, Alberuni. If Isr...</td>\n",
              "    </tr>\n",
              "    <tr>\n",
              "      <th>34</th>\n",
              "      <td>33</td>\n",
              "      <td>14</td>\n",
              "      <td>33_conspiracy_fox_osama_news</td>\n",
              "      <td>[conspiracy, fox, osama, news, wmd, commission...</td>\n",
              "      <td>[Is it not possible that the reason people who...</td>\n",
              "    </tr>\n",
              "    <tr>\n",
              "      <th>35</th>\n",
              "      <td>34</td>\n",
              "      <td>62</td>\n",
              "      <td>34_war_iraq_military_attacks</td>\n",
              "      <td>[war, iraq, military, attacks, terrorist, terr...</td>\n",
              "      <td>[Firstly, The concept of \"state terrorism\" as ...</td>\n",
              "    </tr>\n",
              "    <tr>\n",
              "      <th>36</th>\n",
              "      <td>35</td>\n",
              "      <td>12</td>\n",
              "      <td>35_australia_queen_head_arms</td>\n",
              "      <td>[australia, queen, head, arms, state, governor...</td>\n",
              "      <td>[The two terms are not mutually exclusive. On ...</td>\n",
              "    </tr>\n",
              "    <tr>\n",
              "      <th>37</th>\n",
              "      <td>36</td>\n",
              "      <td>21</td>\n",
              "      <td>36_english_pastor_spelling_alwin</td>\n",
              "      <td>[english, pastor, spelling, alwin, maori, amer...</td>\n",
              "      <td>[Sorry to resurrect an old topic, but I feel I...</td>\n",
              "    </tr>\n",
              "    <tr>\n",
              "      <th>38</th>\n",
              "      <td>37</td>\n",
              "      <td>18</td>\n",
              "      <td>37_catalan_sea_valencia_gibraltar</td>\n",
              "      <td>[catalan, sea, valencia, gibraltar, english, v...</td>\n",
              "      <td>[ Biaised POV by Joanot  I will try to answer ...</td>\n",
              "    </tr>\n",
              "    <tr>\n",
              "      <th>39</th>\n",
              "      <td>38</td>\n",
              "      <td>13</td>\n",
              "      <td>38_area_metropolitan_paris_new</td>\n",
              "      <td>[area, metropolitan, paris, new, france, engla...</td>\n",
              "      <td>[\\n== Get serious, please. ==  As proven a tho...</td>\n",
              "    </tr>\n",
              "    <tr>\n",
              "      <th>40</th>\n",
              "      <td>39</td>\n",
              "      <td>26</td>\n",
              "      <td>39_ireland_irish_britain_kingdom</td>\n",
              "      <td>[ireland, irish, britain, kingdom, british, un...</td>\n",
              "      <td>[A much simpler approach for the lede, linking...</td>\n",
              "    </tr>\n",
              "    <tr>\n",
              "      <th>41</th>\n",
              "      <td>40</td>\n",
              "      <td>69</td>\n",
              "      <td>40_sources_source_quote_book</td>\n",
              "      <td>[sources, source, quote, book, reliable, artic...</td>\n",
              "      <td>[You haven't answered the question at all: whe...</td>\n",
              "    </tr>\n",
              "    <tr>\n",
              "      <th>42</th>\n",
              "      <td>41</td>\n",
              "      <td>13</td>\n",
              "      <td>41_dutch_languages_flemish_belgium</td>\n",
              "      <td>[dutch, languages, flemish, belgium, belgian, ...</td>\n",
              "      <td>[It is unclear to me why the section header \"T...</td>\n",
              "    </tr>\n",
              "    <tr>\n",
              "      <th>43</th>\n",
              "      <td>42</td>\n",
              "      <td>11</td>\n",
              "      <td>42_soviet_stalin_ukrainian_church</td>\n",
              "      <td>[soviet, stalin, ukrainian, church, kirill, fa...</td>\n",
              "      <td>[Cooperation with Soviets Other than anti-Sovi...</td>\n",
              "    </tr>\n",
              "    <tr>\n",
              "      <th>44</th>\n",
              "      <td>43</td>\n",
              "      <td>16</td>\n",
              "      <td>43_template_wiki_link_merge_collapsed</td>\n",
              "      <td>[template, wiki_link, merge, collapsed, articl...</td>\n",
              "      <td>[== Series template being misused ==\\n Where t...</td>\n",
              "    </tr>\n",
              "    <tr>\n",
              "      <th>45</th>\n",
              "      <td>44</td>\n",
              "      <td>29</td>\n",
              "      <td>44_links_link_site_external</td>\n",
              "      <td>[links, link, site, external, spam, website, g...</td>\n",
              "      <td>[ External Links  Okay,  was kind enough to le...</td>\n",
              "    </tr>\n",
              "    <tr>\n",
              "      <th>46</th>\n",
              "      <td>45</td>\n",
              "      <td>26</td>\n",
              "      <td>45_article_wiki_link_ted_wikipedia</td>\n",
              "      <td>[article, wiki_link, ted, wikipedia, wikisposu...</td>\n",
              "      <td>[==WP:RS==\\n Please stop including disreputabl...</td>\n",
              "    </tr>\n",
              "    <tr>\n",
              "      <th>47</th>\n",
              "      <td>46</td>\n",
              "      <td>34</td>\n",
              "      <td>46_kosovo_serbs_slovakia_serbian</td>\n",
              "      <td>[kosovo, serbs, slovakia, serbian, serbia, bos...</td>\n",
              "      <td>[These are the statements by Robert Fico, Slov...</td>\n",
              "    </tr>\n",
              "    <tr>\n",
              "      <th>48</th>\n",
              "      <td>47</td>\n",
              "      <td>21</td>\n",
              "      <td>47_polls_candidates_president_election</td>\n",
              "      <td>[polls, candidates, president, election, candi...</td>\n",
              "      <td>[Many of the articles on elections have nice t...</td>\n",
              "    </tr>\n",
              "    <tr>\n",
              "      <th>49</th>\n",
              "      <td>48</td>\n",
              "      <td>15</td>\n",
              "      <td>48_hess_police_thomas_aboriginal</td>\n",
              "      <td>[hess, police, thomas, aboriginal, joh, meetin...</td>\n",
              "      <td>[  I don't know exactly what the deal is with ...</td>\n",
              "    </tr>\n",
              "    <tr>\n",
              "      <th>50</th>\n",
              "      <td>49</td>\n",
              "      <td>18</td>\n",
              "      <td>49_romanian_principalities_danubian_hungary</td>\n",
              "      <td>[romanian, principalities, danubian, hungary, ...</td>\n",
              "      <td>[In older works (19th-20th century), by \"Danub...</td>\n",
              "    </tr>\n",
              "    <tr>\n",
              "      <th>51</th>\n",
              "      <td>50</td>\n",
              "      <td>37</td>\n",
              "      <td>50_wiki_link_deletion_afd_speedy</td>\n",
              "      <td>[wiki_link, deletion, afd, speedy, deleted, ar...</td>\n",
              "      <td>[\\n==[WIKI_LINK: Wikipedia:Criteria for speedy...</td>\n",
              "    </tr>\n",
              "    <tr>\n",
              "      <th>52</th>\n",
              "      <td>51</td>\n",
              "      <td>31</td>\n",
              "      <td>51_greek_greeks_greece_italian</td>\n",
              "      <td>[greek, greeks, greece, italian, mentality, ar...</td>\n",
              "      <td>[I said I wouldn't but you keep writing length...</td>\n",
              "    </tr>\n",
              "    <tr>\n",
              "      <th>53</th>\n",
              "      <td>52</td>\n",
              "      <td>10</td>\n",
              "      <td>52_000_cham_kurdish_turkey</td>\n",
              "      <td>[000, cham, kurdish, turkey, turkish, populati...</td>\n",
              "      <td>[someone has been playing funny games here. 50...</td>\n",
              "    </tr>\n",
              "    <tr>\n",
              "      <th>54</th>\n",
              "      <td>53</td>\n",
              "      <td>40</td>\n",
              "      <td>53_criticism_section_npov_pov</td>\n",
              "      <td>[criticism, section, npov, pov, article, choms...</td>\n",
              "      <td>[I know that a lot of editors believe (I think...</td>\n",
              "    </tr>\n",
              "    <tr>\n",
              "      <th>55</th>\n",
              "      <td>54</td>\n",
              "      <td>442</td>\n",
              "      <td>54_wiki_link_edit_page_edits</td>\n",
              "      <td>[wiki_link, edit, page, edits, talk, editing, ...</td>\n",
              "      <td>[*As I've already declined a request I won't r...</td>\n",
              "    </tr>\n",
              "  </tbody>\n",
              "</table>\n",
              "</div>\n",
              "    <div class=\"colab-df-buttons\">\n",
              "\n",
              "  <div class=\"colab-df-container\">\n",
              "    <button class=\"colab-df-convert\" onclick=\"convertToInteractive('df-f1d04961-03db-4f68-a5a0-6c29e87f4881')\"\n",
              "            title=\"Convert this dataframe to an interactive table.\"\n",
              "            style=\"display:none;\">\n",
              "\n",
              "  <svg xmlns=\"http://www.w3.org/2000/svg\" height=\"24px\" viewBox=\"0 -960 960 960\">\n",
              "    <path d=\"M120-120v-720h720v720H120Zm60-500h600v-160H180v160Zm220 220h160v-160H400v160Zm0 220h160v-160H400v160ZM180-400h160v-160H180v160Zm440 0h160v-160H620v160ZM180-180h160v-160H180v160Zm440 0h160v-160H620v160Z\"/>\n",
              "  </svg>\n",
              "    </button>\n",
              "\n",
              "  <style>\n",
              "    .colab-df-container {\n",
              "      display:flex;\n",
              "      gap: 12px;\n",
              "    }\n",
              "\n",
              "    .colab-df-convert {\n",
              "      background-color: #E8F0FE;\n",
              "      border: none;\n",
              "      border-radius: 50%;\n",
              "      cursor: pointer;\n",
              "      display: none;\n",
              "      fill: #1967D2;\n",
              "      height: 32px;\n",
              "      padding: 0 0 0 0;\n",
              "      width: 32px;\n",
              "    }\n",
              "\n",
              "    .colab-df-convert:hover {\n",
              "      background-color: #E2EBFA;\n",
              "      box-shadow: 0px 1px 2px rgba(60, 64, 67, 0.3), 0px 1px 3px 1px rgba(60, 64, 67, 0.15);\n",
              "      fill: #174EA6;\n",
              "    }\n",
              "\n",
              "    .colab-df-buttons div {\n",
              "      margin-bottom: 4px;\n",
              "    }\n",
              "\n",
              "    [theme=dark] .colab-df-convert {\n",
              "      background-color: #3B4455;\n",
              "      fill: #D2E3FC;\n",
              "    }\n",
              "\n",
              "    [theme=dark] .colab-df-convert:hover {\n",
              "      background-color: #434B5C;\n",
              "      box-shadow: 0px 1px 3px 1px rgba(0, 0, 0, 0.15);\n",
              "      filter: drop-shadow(0px 1px 2px rgba(0, 0, 0, 0.3));\n",
              "      fill: #FFFFFF;\n",
              "    }\n",
              "  </style>\n",
              "\n",
              "    <script>\n",
              "      const buttonEl =\n",
              "        document.querySelector('#df-f1d04961-03db-4f68-a5a0-6c29e87f4881 button.colab-df-convert');\n",
              "      buttonEl.style.display =\n",
              "        google.colab.kernel.accessAllowed ? 'block' : 'none';\n",
              "\n",
              "      async function convertToInteractive(key) {\n",
              "        const element = document.querySelector('#df-f1d04961-03db-4f68-a5a0-6c29e87f4881');\n",
              "        const dataTable =\n",
              "          await google.colab.kernel.invokeFunction('convertToInteractive',\n",
              "                                                    [key], {});\n",
              "        if (!dataTable) return;\n",
              "\n",
              "        const docLinkHtml = 'Like what you see? Visit the ' +\n",
              "          '<a target=\"_blank\" href=https://colab.research.google.com/notebooks/data_table.ipynb>data table notebook</a>'\n",
              "          + ' to learn more about interactive tables.';\n",
              "        element.innerHTML = '';\n",
              "        dataTable['output_type'] = 'display_data';\n",
              "        await google.colab.output.renderOutput(dataTable, element);\n",
              "        const docLink = document.createElement('div');\n",
              "        docLink.innerHTML = docLinkHtml;\n",
              "        element.appendChild(docLink);\n",
              "      }\n",
              "    </script>\n",
              "  </div>\n",
              "\n",
              "\n",
              "<div id=\"df-8ad1cfd0-144b-4fa6-b561-e4e4708aa04b\">\n",
              "  <button class=\"colab-df-quickchart\" onclick=\"quickchart('df-8ad1cfd0-144b-4fa6-b561-e4e4708aa04b')\"\n",
              "            title=\"Suggest charts\"\n",
              "            style=\"display:none;\">\n",
              "\n",
              "<svg xmlns=\"http://www.w3.org/2000/svg\" height=\"24px\"viewBox=\"0 0 24 24\"\n",
              "     width=\"24px\">\n",
              "    <g>\n",
              "        <path d=\"M19 3H5c-1.1 0-2 .9-2 2v14c0 1.1.9 2 2 2h14c1.1 0 2-.9 2-2V5c0-1.1-.9-2-2-2zM9 17H7v-7h2v7zm4 0h-2V7h2v10zm4 0h-2v-4h2v4z\"/>\n",
              "    </g>\n",
              "</svg>\n",
              "  </button>\n",
              "\n",
              "<style>\n",
              "  .colab-df-quickchart {\n",
              "      --bg-color: #E8F0FE;\n",
              "      --fill-color: #1967D2;\n",
              "      --hover-bg-color: #E2EBFA;\n",
              "      --hover-fill-color: #174EA6;\n",
              "      --disabled-fill-color: #AAA;\n",
              "      --disabled-bg-color: #DDD;\n",
              "  }\n",
              "\n",
              "  [theme=dark] .colab-df-quickchart {\n",
              "      --bg-color: #3B4455;\n",
              "      --fill-color: #D2E3FC;\n",
              "      --hover-bg-color: #434B5C;\n",
              "      --hover-fill-color: #FFFFFF;\n",
              "      --disabled-bg-color: #3B4455;\n",
              "      --disabled-fill-color: #666;\n",
              "  }\n",
              "\n",
              "  .colab-df-quickchart {\n",
              "    background-color: var(--bg-color);\n",
              "    border: none;\n",
              "    border-radius: 50%;\n",
              "    cursor: pointer;\n",
              "    display: none;\n",
              "    fill: var(--fill-color);\n",
              "    height: 32px;\n",
              "    padding: 0;\n",
              "    width: 32px;\n",
              "  }\n",
              "\n",
              "  .colab-df-quickchart:hover {\n",
              "    background-color: var(--hover-bg-color);\n",
              "    box-shadow: 0 1px 2px rgba(60, 64, 67, 0.3), 0 1px 3px 1px rgba(60, 64, 67, 0.15);\n",
              "    fill: var(--button-hover-fill-color);\n",
              "  }\n",
              "\n",
              "  .colab-df-quickchart-complete:disabled,\n",
              "  .colab-df-quickchart-complete:disabled:hover {\n",
              "    background-color: var(--disabled-bg-color);\n",
              "    fill: var(--disabled-fill-color);\n",
              "    box-shadow: none;\n",
              "  }\n",
              "\n",
              "  .colab-df-spinner {\n",
              "    border: 2px solid var(--fill-color);\n",
              "    border-color: transparent;\n",
              "    border-bottom-color: var(--fill-color);\n",
              "    animation:\n",
              "      spin 1s steps(1) infinite;\n",
              "  }\n",
              "\n",
              "  @keyframes spin {\n",
              "    0% {\n",
              "      border-color: transparent;\n",
              "      border-bottom-color: var(--fill-color);\n",
              "      border-left-color: var(--fill-color);\n",
              "    }\n",
              "    20% {\n",
              "      border-color: transparent;\n",
              "      border-left-color: var(--fill-color);\n",
              "      border-top-color: var(--fill-color);\n",
              "    }\n",
              "    30% {\n",
              "      border-color: transparent;\n",
              "      border-left-color: var(--fill-color);\n",
              "      border-top-color: var(--fill-color);\n",
              "      border-right-color: var(--fill-color);\n",
              "    }\n",
              "    40% {\n",
              "      border-color: transparent;\n",
              "      border-right-color: var(--fill-color);\n",
              "      border-top-color: var(--fill-color);\n",
              "    }\n",
              "    60% {\n",
              "      border-color: transparent;\n",
              "      border-right-color: var(--fill-color);\n",
              "    }\n",
              "    80% {\n",
              "      border-color: transparent;\n",
              "      border-right-color: var(--fill-color);\n",
              "      border-bottom-color: var(--fill-color);\n",
              "    }\n",
              "    90% {\n",
              "      border-color: transparent;\n",
              "      border-bottom-color: var(--fill-color);\n",
              "    }\n",
              "  }\n",
              "</style>\n",
              "\n",
              "  <script>\n",
              "    async function quickchart(key) {\n",
              "      const quickchartButtonEl =\n",
              "        document.querySelector('#' + key + ' button');\n",
              "      quickchartButtonEl.disabled = true;  // To prevent multiple clicks.\n",
              "      quickchartButtonEl.classList.add('colab-df-spinner');\n",
              "      try {\n",
              "        const charts = await google.colab.kernel.invokeFunction(\n",
              "            'suggestCharts', [key], {});\n",
              "      } catch (error) {\n",
              "        console.error('Error during call to suggestCharts:', error);\n",
              "      }\n",
              "      quickchartButtonEl.classList.remove('colab-df-spinner');\n",
              "      quickchartButtonEl.classList.add('colab-df-quickchart-complete');\n",
              "    }\n",
              "    (() => {\n",
              "      let quickchartButtonEl =\n",
              "        document.querySelector('#df-8ad1cfd0-144b-4fa6-b561-e4e4708aa04b button');\n",
              "      quickchartButtonEl.style.display =\n",
              "        google.colab.kernel.accessAllowed ? 'block' : 'none';\n",
              "    })();\n",
              "  </script>\n",
              "</div>\n",
              "\n",
              "    </div>\n",
              "  </div>\n"
            ],
            "text/plain": [
              "    Topic  Count                                               Name  \\\n",
              "0      -1   1762                       -1_article_just_page_sources   \n",
              "1       0     12                 0_muhammad_depictions_images_image   \n",
              "2       1    122                       1_image_images_picture_photo   \n",
              "3       2     21                             2_al_rebels_sohr_nusra   \n",
              "4       3     70                    3_medical_diet_disease_research   \n",
              "5       4     24                 4_chinese_japanese_goguryeo_korean   \n",
              "6       5     15  5_rfc_pejorative_requests_for_comment_correctness   \n",
              "7       6     41              6_species_subspecies_reptile_tortoise   \n",
              "8       7     14                  7_station_stations_square_gateway   \n",
              "9       8     23                           8_china_taiwan_roc_align   \n",
              "10      9     35                   9_wwe_undertaker_match_wrestling   \n",
              "11     10     95                      10_club_football_team_players   \n",
              "12     11     17                      11_hrf_rain_mulholland_oppose   \n",
              "13     12     13       12_communist_communism_capitalist_capitalism   \n",
              "14     13     16          13_anarchism_anarcho_anarchist_anarchists   \n",
              "15     14    177                           14_metal_rock_band_music   \n",
              "16     15    102                      15_christian_christ_jesus_god   \n",
              "17     16     43                     16_engine_windows_linux_rotary   \n",
              "18     17    192               17_film_characters_character_episode   \n",
              "19     18     16                             18_grg_age_date_august   \n",
              "20     19     27               19_warming_climate_global_greenhouse   \n",
              "21     20     49        20_science_scientific_evolution_agnosticism   \n",
              "22     21     13                    21_speed_clocks_light_postulate   \n",
              "23     22     34                           22_units_unit_numbers_si   \n",
              "24     23     19                      23_rifle_lee_gunpowder_rifles   \n",
              "25     24     22                            24_tag_tags_bot_article   \n",
              "26     25     51                  25_persian_arab_iranian_assyrians   \n",
              "27     26     34                   26_islam_muhammad_muslim_muslims   \n",
              "28     27     38                      27_hindu_india_caste_hinduism   \n",
              "29     28     24                         28_james_royal_king_family   \n",
              "30     29     10                29_citizenship_li_citizen_permanent   \n",
              "31     30     35                  30_pedophilia_sexual_disorder_gay   \n",
              "32     31     12                           31_wiki_link_ve_foyle_fw   \n",
              "33     32     32          32_israel_palestinian_jerusalem_palestine   \n",
              "34     33     14                       33_conspiracy_fox_osama_news   \n",
              "35     34     62                       34_war_iraq_military_attacks   \n",
              "36     35     12                       35_australia_queen_head_arms   \n",
              "37     36     21                   36_english_pastor_spelling_alwin   \n",
              "38     37     18                  37_catalan_sea_valencia_gibraltar   \n",
              "39     38     13                     38_area_metropolitan_paris_new   \n",
              "40     39     26                   39_ireland_irish_britain_kingdom   \n",
              "41     40     69                       40_sources_source_quote_book   \n",
              "42     41     13                 41_dutch_languages_flemish_belgium   \n",
              "43     42     11                  42_soviet_stalin_ukrainian_church   \n",
              "44     43     16              43_template_wiki_link_merge_collapsed   \n",
              "45     44     29                        44_links_link_site_external   \n",
              "46     45     26                 45_article_wiki_link_ted_wikipedia   \n",
              "47     46     34                   46_kosovo_serbs_slovakia_serbian   \n",
              "48     47     21             47_polls_candidates_president_election   \n",
              "49     48     15                   48_hess_police_thomas_aboriginal   \n",
              "50     49     18        49_romanian_principalities_danubian_hungary   \n",
              "51     50     37                   50_wiki_link_deletion_afd_speedy   \n",
              "52     51     31                     51_greek_greeks_greece_italian   \n",
              "53     52     10                         52_000_cham_kurdish_turkey   \n",
              "54     53     40                      53_criticism_section_npov_pov   \n",
              "55     54    442                       54_wiki_link_edit_page_edits   \n",
              "\n",
              "                                       Representation  \\\n",
              "0   [article, just, page, sources, wikipedia, like...   \n",
              "1   [muhammad, depictions, images, image, pictures...   \n",
              "2   [image, images, picture, photo, use, pictures,...   \n",
              "3   [al, rebels, sohr, nusra, map, pro, masdar, re...   \n",
              "4   [medical, diet, disease, research, doctors, ef...   \n",
              "5   [chinese, japanese, goguryeo, korean, china, k...   \n",
              "6   [rfc, pejorative, requests_for_comment, correc...   \n",
              "7   [species, subspecies, reptile, tortoise, creat...   \n",
              "8   [station, stations, square, gateway, railway, ...   \n",
              "9   [china, taiwan, roc, align, manchuria, 000, ma...   \n",
              "10  [wwe, undertaker, match, wrestling, matches, w...   \n",
              "11  [club, football, team, players, player, teams,...   \n",
              "12  [hrf, rain, mulholland, oppose, requested, com...   \n",
              "13  [communist, communism, capitalist, capitalism,...   \n",
              "14  [anarchism, anarcho, anarchist, anarchists, ca...   \n",
              "15  [metal, rock, band, music, album, song, bands,...   \n",
              "16  [christian, christ, jesus, god, religious, bib...   \n",
              "17  [engine, windows, linux, rotary, gnu, kernel, ...   \n",
              "18  [film, characters, character, episode, series,...   \n",
              "19  [grg, age, date, august, birthday, 110, oldest...   \n",
              "20  [warming, climate, global, greenhouse, gases, ...   \n",
              "21  [science, scientific, evolution, agnosticism, ...   \n",
              "22  [speed, clocks, light, postulate, clock, einst...   \n",
              "23  [units, unit, numbers, si, number, natural, ph...   \n",
              "24  [rifle, lee, gunpowder, rifles, clip, assault,...   \n",
              "25  [tag, tags, bot, article, discussion, disputed...   \n",
              "26  [persian, arab, iranian, assyrians, assyrian, ...   \n",
              "27  [islam, muhammad, muslim, muslims, islamic, na...   \n",
              "28  [hindu, india, caste, hinduism, ayyavazhi, rel...   \n",
              "29  [james, royal, king, family, dr, buckingham, h...   \n",
              "30  [citizenship, li, citizen, permanent, national...   \n",
              "31  [pedophilia, sexual, disorder, gay, dsm, age, ...   \n",
              "32  [wiki_link, ve, foyle, fw, work, spelling, ino...   \n",
              "33  [israel, palestinian, jerusalem, palestine, is...   \n",
              "34  [conspiracy, fox, osama, news, wmd, commission...   \n",
              "35  [war, iraq, military, attacks, terrorist, terr...   \n",
              "36  [australia, queen, head, arms, state, governor...   \n",
              "37  [english, pastor, spelling, alwin, maori, amer...   \n",
              "38  [catalan, sea, valencia, gibraltar, english, v...   \n",
              "39  [area, metropolitan, paris, new, france, engla...   \n",
              "40  [ireland, irish, britain, kingdom, british, un...   \n",
              "41  [sources, source, quote, book, reliable, artic...   \n",
              "42  [dutch, languages, flemish, belgium, belgian, ...   \n",
              "43  [soviet, stalin, ukrainian, church, kirill, fa...   \n",
              "44  [template, wiki_link, merge, collapsed, articl...   \n",
              "45  [links, link, site, external, spam, website, g...   \n",
              "46  [article, wiki_link, ted, wikipedia, wikisposu...   \n",
              "47  [kosovo, serbs, slovakia, serbian, serbia, bos...   \n",
              "48  [polls, candidates, president, election, candi...   \n",
              "49  [hess, police, thomas, aboriginal, joh, meetin...   \n",
              "50  [romanian, principalities, danubian, hungary, ...   \n",
              "51  [wiki_link, deletion, afd, speedy, deleted, ar...   \n",
              "52  [greek, greeks, greece, italian, mentality, ar...   \n",
              "53  [000, cham, kurdish, turkey, turkish, populati...   \n",
              "54  [criticism, section, npov, pov, article, choms...   \n",
              "55  [wiki_link, edit, page, edits, talk, editing, ...   \n",
              "\n",
              "                                  Representative_Docs  \n",
              "0   [And after that debate, the article was left w...  \n",
              "1   [Any attempt at religious censorship will be r...  \n",
              "2   [Why would one need photoshop to create an acc...  \n",
              "3   [translation from sohr eng: http://syriahr.com...  \n",
              "4   [To be picky MEDRS is not quite \"a guideline f...  \n",
              "5   [Those \"chapters\" are further elaborations for...  \n",
              "6   [RfC has become pointless due to heave off-Wik...  \n",
              "7   [Just a comment on this issueEditors on scienc...  \n",
              "8   [Maiden Lane, GNR. Temporary terminus from 8 A...  \n",
              "9   [Please don't add some fringe interpretation o...  \n",
              "10  [Yeah, but for the sake of being accurate WWE ...  \n",
              "11  [Until the situation regarding this article an...  \n",
              "12  [ Move?  \\n''The following discussion is an ar...  \n",
              "13  [What's wrong with speaking of Cuba and all as...  \n",
              "14  [  By this standard all societies, by definiti...  \n",
              "15  [ Wikiproject collaboration  All right, I just...  \n",
              "16  [That clarifies who it is, but will add source...  \n",
              "17  [Well, now this is interesting.  It's an inter...  \n",
              "18  [Clean Up Suggestions I've removed the most ob...  \n",
              "19  [Both.  I would personally leave the infobox b...  \n",
              "20  [ Traditionally, this article has been a place...  \n",
              "21  [ New Criticism section  I have added a new se...  \n",
              "22  [I have added a sourced statement. That should...  \n",
              "23  [The problem with the use of atmospheres as a ...  \n",
              "24  [Thanks for the note.  You are incorrect.  The...  \n",
              "25  [Are you sure you understand the tags you've p...  \n",
              "26  [ Question  I know this page focuses on modern...  \n",
              "27  [Picking up for Anthony:\\n no longer in this a...  \n",
              "28  [You might want to see this for the extent of ...  \n",
              "29  [ Parker-Bowles Children  On what basis are th...  \n",
              "30  [\\n== Providing \"Proof\" of American Indian anc...  \n",
              "31  [A few thoughts, in no particular order. \"Homo...  \n",
              "32  [== [WIKI_LINK: Wikipedia:WikiProject_NCSLC|Wi...  \n",
              "33  [Thanks for clearing that up, Alberuni. If Isr...  \n",
              "34  [Is it not possible that the reason people who...  \n",
              "35  [Firstly, The concept of \"state terrorism\" as ...  \n",
              "36  [The two terms are not mutually exclusive. On ...  \n",
              "37  [Sorry to resurrect an old topic, but I feel I...  \n",
              "38  [ Biaised POV by Joanot  I will try to answer ...  \n",
              "39  [\\n== Get serious, please. ==  As proven a tho...  \n",
              "40  [A much simpler approach for the lede, linking...  \n",
              "41  [You haven't answered the question at all: whe...  \n",
              "42  [It is unclear to me why the section header \"T...  \n",
              "43  [Cooperation with Soviets Other than anti-Sovi...  \n",
              "44  [== Series template being misused ==\\n Where t...  \n",
              "45  [ External Links  Okay,  was kind enough to le...  \n",
              "46  [==WP:RS==\\n Please stop including disreputabl...  \n",
              "47  [These are the statements by Robert Fico, Slov...  \n",
              "48  [Many of the articles on elections have nice t...  \n",
              "49  [  I don't know exactly what the deal is with ...  \n",
              "50  [In older works (19th-20th century), by \"Danub...  \n",
              "51  [\\n==[WIKI_LINK: Wikipedia:Criteria for speedy...  \n",
              "52  [I said I wouldn't but you keep writing length...  \n",
              "53  [someone has been playing funny games here. 50...  \n",
              "54  [I know that a lot of editors believe (I think...  \n",
              "55  [*As I've already declined a request I won't r...  "
            ]
          },
          "execution_count": 47,
          "metadata": {},
          "output_type": "execute_result"
        }
      ],
      "source": [
        "topic_model.get_topic_info()"
      ]
    },
    {
      "cell_type": "code",
      "execution_count": null,
      "metadata": {
        "colab": {
          "base_uri": "https://localhost:8080/",
          "height": 449
        },
        "id": "ee6Kjxa7ijWn",
        "outputId": "8e7db6b2-82de-4319-e533-f2744ad1d906"
      },
      "outputs": [
        {
          "data": {
            "text/plain": [
              "<matplotlib.image.AxesImage at 0x7f475ca2f100>"
            ]
          },
          "execution_count": 50,
          "metadata": {},
          "output_type": "execute_result"
        },
        {
          "data": {
            "image/png": "[encoded data removed]",
            "text/plain": [
              "<Figure size 640x480 with 1 Axes>"
            ]
          },
          "metadata": {},
          "output_type": "display_data"
        }
      ],
      "source": [
        "import numpy as np\n",
        "from sklearn.metrics.pairwise import cosine_similarity\n",
        "import matplotlib.pyplot as plt\n",
        "\n",
        "distance_matrix = cosine_similarity(np.array(topic_model.topic_embeddings_)[:, :])\n",
        "labels = (topic_model.get_topic_info().sort_values(\"Topic\", ascending=True).Name)[1:]\n",
        "plt.imshow(distance_matrix)"
      ]
    },
    {
      "cell_type": "code",
      "execution_count": null,
      "metadata": {
        "colab": {
          "base_uri": "https://localhost:8080/"
        },
        "id": "lwT658JDexE1",
        "outputId": "d0b83dd2-0bda-4e33-e513-1bc2997bb836"
      },
      "outputs": [
        {
          "data": {
            "text/plain": [
              "dict_keys([-1, 0, 1, 2, 3, 4, 5, 6, 7, 8, 9, 10, 11, 12, 13, 14, 15, 16, 17, 18, 19, 20, 21, 22, 23, 24, 25, 26, 27, 28, 29, 30, 31, 32, 33, 34, 35, 36, 37, 38, 39, 40, 41, 42, 43, 44, 45, 46, 47, 48, 49, 50, 51, 52, 53, 54, 55, 56])"
            ]
          },
          "execution_count": 51,
          "metadata": {},
          "output_type": "execute_result"
        }
      ],
      "source": [
        "topic_list = topic_model.topic_labels_\n",
        "\n",
        "topic_list.keys()"
      ]
    },
    {
      "cell_type": "markdown",
      "metadata": {
        "id": "aa901Jx5qJ59"
      },
      "source": [
        "# Set Up Data for Firebase"
      ]
    },
    {
      "cell_type": "code",
      "execution_count": null,
      "metadata": {
        "id": "lB61tfuKiQd6"
      },
      "outputs": [],
      "source": [
        "label_records = []\n",
        "\n",
        "for i in topic_list.keys():\n",
        "  label_record = {}\n",
        "  label_record['topic'] = i\n",
        "  topic_words = [token[0] for token in topic_model.get_topic(i)]\n",
        "  topic_name = topic_words[0]\n",
        "  for topic_word in topic_words[1:4]:\n",
        "    topic_name += \"_\" + topic_word\n",
        "  label_record['topic_name'] = topic_name\n",
        "\n",
        "  sim = distance_matrix[i+1]\n",
        "  for j in range(len(sim)):\n",
        "    label_record[str(j-1)] = float(sim[j])\n",
        "\n",
        "  label_records.append(label_record)\n",
        "\n",
        "for i in range(len(convo_records)):\n",
        "    convo_records[i]['topic'] = topics[i]\n",
        "\n",
        "    topic_words = [token[0] for token in topic_model.get_topic(topics[i])]\n",
        "    topic_name = topic_words[0]\n",
        "    for topic_word in [token[0] for token in topic_model.get_topic(topics[i])][1:4]:\n",
        "      topic_name += \"_\" + topic_word\n",
        "\n",
        "    convo_records[i]['topic_name'] = topic_name\n",
        "    convo_records[i]['probs_per_topic'] = probs[i]"
      ]
    },
    {
      "cell_type": "code",
      "execution_count": null,
      "metadata": {
        "id": "b8NEgvVswkxW"
      },
      "outputs": [],
      "source": [
        "label_records[6]"
      ]
    },
    {
      "cell_type": "code",
      "execution_count": null,
      "metadata": {
        "colab": {
          "base_uri": "https://localhost:8080/"
        },
        "id": "RzAv8uX_wsLF",
        "outputId": "e686040c-9fe2-448f-c2f2-98e48d96a0bc"
      },
      "outputs": [
        {
          "data": {
            "text/plain": [
              "{'convo_id': '100009118.8296.8296',\n",
              " 'total_personal_attacks': 1,\n",
              " 'average_toxicity': 0.28995347,\n",
              " 'start_time': 1168531555.0,\n",
              " 'topic': -1,\n",
              " 'topic_name': 'article_just_page_sources',\n",
              " 'probs_per_topic': 0.0}"
            ]
          },
          "execution_count": 61,
          "metadata": {},
          "output_type": "execute_result"
        }
      ],
      "source": [
        "convo_records[0]"
      ]
    },
    {
      "cell_type": "markdown",
      "metadata": {
        "id": "T09MENr2qQZs"
      },
      "source": [
        "## Filter out conversations by labels to make it easier to send to firebase"
      ]
    },
    {
      "cell_type": "code",
      "execution_count": null,
      "metadata": {
        "id": "DiMdLpUHpImy"
      },
      "outputs": [],
      "source": [
        "sorted_conv = {}\n",
        "for record in label_records:\n",
        "  for conv in convo_records:\n",
        "    if record['topic'] == conv['topic']:\n",
        "      if record['topic'] not in sorted_conv.keys():\n",
        "        sorted_conv[record['topic']] = [conv]\n",
        "      else:\n",
        "        sorted_conv[record['topic']].append(conv)"
      ]
    },
    {
      "cell_type": "code",
      "execution_count": null,
      "metadata": {
        "colab": {
          "base_uri": "https://localhost:8080/"
        },
        "id": "TSN-EHkZl2DN",
        "outputId": "222f3e9d-d097-4cd7-ba26-303bb813eaf0"
      },
      "outputs": [
        {
          "data": {
            "text/plain": [
              "dict_keys(['convo_id', 'total_personal_attacks', 'average_toxicity', 'start_time', 'topic', 'topic_name', 'probs_per_topic'])"
            ]
          },
          "execution_count": 66,
          "metadata": {},
          "output_type": "execute_result"
        }
      ],
      "source": [
        "sorted_conv[-1][0].keys()"
      ]
    },
    {
      "cell_type": "code",
      "execution_count": null,
      "metadata": {
        "id": "fSA1ExlVw8AG"
      },
      "outputs": [],
      "source": [
        "import math\n",
        "for i, record in enumerate(label_records):\n",
        "  sum = 0\n",
        "  count = 0\n",
        "  for convo_record in sorted_conv[i-1]:\n",
        "    if math.isnan(convo_record['average_toxicity']):\n",
        "      continue\n",
        "    count += 1\n",
        "    sum += convo_record['average_toxicity']\n",
        "  if count == 0:\n",
        "    avg = 0\n",
        "  else:\n",
        "    avg = sum/count\n",
        "  label_records[i]['average_toxicity'] = avg\n"
      ]
    },
    {
      "cell_type": "markdown",
      "metadata": {
        "id": "wrmiEHUKqfz0"
      },
      "source": [
        "## Save to Firebase"
      ]
    },
    {
      "cell_type": "code",
      "execution_count": null,
      "metadata": {
        "colab": {
          "background_save": true
        },
        "id": "0am9i2JjmSIi",
        "outputId": "58bd5f41-69a3-4294-9854-23cfeba0b003"
      },
      "outputs": [
        {
          "name": "stdout",
          "output_type": "stream",
          "text": [
            "done\n"
          ]
        }
      ],
      "source": [
        "for i, label_record in enumerate(label_records):\n",
        "    topic = label_record['topic']\n",
        "    topic_id = str(i)\n",
        "    db.collection('topics1').document(topic_id).set(label_record)\n",
        "    for j, convo_record in enumerate(sorted_conv[topic]):\n",
        "        convo_id = convo_record['convo_id']\n",
        "        db.collection('topics1').document(topic_id).collection('convosations').document(convo_id).set(convo_record)\n",
        "        for speaker_record in convo_speakers[convo_id]:\n",
        "            speaker_id = speaker_record['speaker_id']\n",
        "            db.collection('topics1').document(topic_id).collection('convosations').document(convo_id).collection('speakers').document(speaker_id).set(speaker_record)\n",
        "print('done')"
      ]
    },
    {
      "cell_type": "code",
      "execution_count": null,
      "metadata": {
        "id": "AAEsm6woQ7YT"
      },
      "outputs": [],
      "source": [
        "for i, record in enumerate(convo_records):\n",
        "    convo_id = record['convo_id']\n",
        "    db.collection('convo_topics').document(convo_id).set(record)"
      ]
    }
  ],
  "metadata": {
    "accelerator": "GPU",
    "colab": {
      "provenance": []
    },
    "kernelspec": {
      "display_name": "Python 3",
      "name": "python3"
    },
    "language_info": {
      "name": "python"
    }
  },
  "nbformat": 4,
  "nbformat_minor": 0
}