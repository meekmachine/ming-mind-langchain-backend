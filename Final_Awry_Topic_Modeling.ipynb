{
  "cells": [
    {
      "cell_type": "code",
      "execution_count": null,
      "metadata": {
        "colab": {
          "background_save": true
        },
        "id": "9wh-l2k38c2f"
      },
      "outputs": [],
      "source": [
        "!pip install bertopic\n",
        "!pip install convokit\n",
        "!pip install langchain\n",
        "!pip install transformers\n",
        "!pip install firebase-admin\n",
        "!pip install transformers"
      ]
    },
    {
      "cell_type": "code",
      "execution_count": null,
      "metadata": {
        "id": "r7kCRzgJ9qFL"
      },
      "outputs": [],
      "source": [
        "from bertopic import BERTopic\n",
        "from convokit import Corpus, download\n",
        "import pandas as pd\n",
        "import numpy as np\n",
        "from langchain.llms import HuggingFaceHub\n",
        "import os\n",
        "from transformers import pipeline\n",
        "import firebase_admin\n",
        "from firebase_admin import credentials, firestore, initialize_app, storage\n",
        "from transformers import pipeline\n",
        "import matplotlib.pyplot as plt"
      ]
    },
    {
      "cell_type": "code",
      "execution_count": null,
      "metadata": {
        "id": "FjmZjVm-RSD5"
      },
      "outputs": [],
      "source": [
        "cred = credentials.Certificate(\"/content/ming-527ed-firebase-adminsdk-z38ui-431c72dad9.json\")\n",
        "firebase_admin.initialize_app(cred)"
      ]
    },
    {
      "cell_type": "code",
      "execution_count": null,
      "metadata": {
        "id": "DXvNcmZ2UhxV"
      },
      "outputs": [],
      "source": [
        "db = firestore.client()"
      ]
    },
    {
      "cell_type": "markdown",
      "metadata": {
        "id": "8ieZHySip9qm"
      },
      "source": [
        "# Loading Corpus"
      ]
    },
    {
      "cell_type": "code",
      "execution_count": null,
      "metadata": {
        "id": "YDuRcbSP9i5k"
      },
      "outputs": [],
      "source": [
        "corpus = Corpus(filename=download(\"conversations-gone-awry-corpus\"))"
      ]
    },
    {
      "cell_type": "code",
      "execution_count": null,
      "metadata": {
        "id": "4e-S8ho-8GUi"
      },
      "outputs": [],
      "source": [
        "conversations_df = corpus.get_conversations_dataframe()\n",
        "utterances_df = corpus.get_utterances_dataframe()\n",
        "speakers_df = corpus.get_speakers_dataframe()"
      ]
    },
    {
      "cell_type": "code",
      "execution_count": null,
      "metadata": {
        "id": "Dz8jzn9QpsZs"
      },
      "outputs": [],
      "source": [
        "utterances_df"
      ]
    },
    {
      "cell_type": "code",
      "execution_count": null,
      "metadata": {
        "id": "b-YNOqn39_Im"
      },
      "outputs": [],
      "source": [
        "def process_conversations(conversations_df, utterances_df, speakers_df):\n",
        "    # Filter and merge dataframes\n",
        "    merged_df = pd.merge(utterances_df, speakers_df, left_on='speaker', right_index=True)\n",
        "    merged_df = pd.merge(merged_df, conversations_df, left_on='conversation_id', right_index=True)\n",
        "\n",
        "    # Process each conversation\n",
        "\n",
        "    convo_records = []\n",
        "    convo_texts = []\n",
        "    for convo_id, convo_data in merged_df.groupby('conversation_id'):\n",
        "        # Calculate total personal attacks and average toxicity\n",
        "        total_attacks = convo_data['meta.comment_has_personal_attack'].sum()\n",
        "        avg_toxicity = convo_data['meta.toxicity'].mean()\n",
        "\n",
        "        # Get conversation start time\n",
        "        start_time = convo_data['timestamp'].min()\n",
        "\n",
        "        # Calculate embeddings for the conversation\n",
        "        convo_text = ' '.join(convo_data['text'].tolist())\n",
        "        #embeddings = calculate_embeddings(convo_text)\n",
        "\n",
        "        # Prepare data for Firebase\n",
        "        convo_record = {\n",
        "            'convo_id': convo_id,\n",
        "            'total_personal_attacks': total_attacks,\n",
        "            'average_toxicity': avg_toxicity,\n",
        "            'start_time': start_time,\n",
        "            #'embeddings': embeddings,\n",
        "            # Include additional metadata as needed\n",
        "        }\n",
        "\n",
        "\n",
        "        #convo_speakers.append(convo_speaker)\n",
        "        convo_texts.append(convo_text)\n",
        "        convo_records.append(convo_record)\n",
        "        # Save to Firebase\n",
        "        #db.collection('conversations').document(convo_id).set(convo_record)\n",
        "\n",
        "    print(\"Processed Convo Texts\")\n",
        "    return convo_records, convo_texts"
      ]
    },
    {
      "cell_type": "markdown",
      "metadata": {
        "id": "jwpm65s6K1D3"
      },
      "source": [
        "meaningfull labels\n",
        "similarities for the clusters\n",
        "emotions model to work on classifying speakers on emotions. then turn the emotions\n",
        "\n",
        "\n"
      ]
    },
    {
      "cell_type": "code",
      "execution_count": null,
      "metadata": {
        "id": "LDC5O2e_-Jym"
      },
      "outputs": [],
      "source": [
        "convo_records, convo_texts = process_conversations(conversations_df, utterances_df, speakers_df) #.head(1000)"
      ]
    },
    {
      "cell_type": "markdown",
      "metadata": {
        "id": "GvhGDQ67qEi9"
      },
      "source": [
        "# Do Clustering"
      ]
    },
    {
      "cell_type": "code",
      "execution_count": null,
      "metadata": {
        "id": "B2rFmGt6-qdx"
      },
      "outputs": [],
      "source": [
        "from sklearn.feature_extraction.text import CountVectorizer\n",
        "vectorizer_model = CountVectorizer(stop_words=\"english\")\n",
        "topic_model = BERTopic(embedding_model=\"all-MiniLM-L6-v2\",vectorizer_model=vectorizer_model)#calculate_probabilities=True)"
      ]
    },
    {
      "cell_type": "code",
      "execution_count": null,
      "metadata": {
        "id": "nh0Uvgzh-sTh"
      },
      "outputs": [],
      "source": [
        "topics, probs = topic_model.fit_transform(convo_texts)"
      ]
    },
    {
      "cell_type": "code",
      "execution_count": null,
      "metadata": {
        "id": "oTRg0ARBx8xL"
      },
      "outputs": [],
      "source": [
        "topic_model.get_topic_info()"
      ]
    },
    {
      "cell_type": "code",
      "execution_count": null,
      "metadata": {
        "colab": {
          "base_uri": "https://localhost:8080/",
          "height": 449
        },
        "id": "ee6Kjxa7ijWn",
        "outputId": "f483d482-6de7-4e73-9ba6-b698e0869759"
      },
      "outputs": [
        {
          "data": {
            "text/plain": [
              "<matplotlib.image.AxesImage at 0x7f42dfde4ca0>"
            ]
          },
          "execution_count": 14,
          "metadata": {},
          "output_type": "execute_result"
        },
        {
          "data": {
            "image/png": "[encoded data removed]",
            "text/plain": [
              "<Figure size 640x480 with 1 Axes>"
            ]
          },
          "metadata": {},
          "output_type": "display_data"
        }
      ],
      "source": [
        "import numpy as np\n",
        "from sklearn.metrics.pairwise import cosine_similarity\n",
        "import matplotlib.pyplot as plt\n",
        "\n",
        "distance_matrix = cosine_similarity(np.array(topic_model.topic_embeddings_)[:, :])\n",
        "labels = (topic_model.get_topic_info().sort_values(\"Topic\", ascending=True).Name)[1:]\n",
        "plt.imshow(distance_matrix)"
      ]
    },
    {
      "cell_type": "code",
      "execution_count": null,
      "metadata": {
        "id": "lwT658JDexE1"
      },
      "outputs": [],
      "source": [
        "topic_list = topic_model.topic_labels_\n",
        "\n",
        "topic_list.keys()"
      ]
    },
    {
      "cell_type": "markdown",
      "metadata": {
        "id": "aa901Jx5qJ59"
      },
      "source": [
        "# Set Up Data for Firebase"
      ]
    },
    {
      "cell_type": "code",
      "execution_count": null,
      "metadata": {
        "id": "lB61tfuKiQd6"
      },
      "outputs": [],
      "source": [
        "label_records = []\n",
        "\n",
        "for i in topic_list.keys():\n",
        "  label_record = {}\n",
        "  label_record['topic'] = i\n",
        "  topic_words = [token[0] for token in topic_model.get_topic(i)]\n",
        "  topic_name = topic_words[0]\n",
        "  for topic_word in topic_words[1:4]:\n",
        "    topic_name += \"_\" + topic_word\n",
        "  label_record['topic_name'] = topic_name\n",
        "\n",
        "  sim = distance_matrix[i+1]\n",
        "  for j in range(len(sim)):\n",
        "    label_record[str(j-1)] = float(sim[j])\n",
        "\n",
        "  label_records.append(label_record)\n",
        "\n",
        "for i in range(len(convo_records)):\n",
        "    convo_records[i]['topic'] = topics[i]\n",
        "\n",
        "    topic_words = [token[0] for token in topic_model.get_topic(topics[i])]\n",
        "    topic_name = topic_words[0]\n",
        "    for topic_word in [token[0] for token in topic_model.get_topic(topics[i])][1:4]:\n",
        "      topic_name += \"_\" + topic_word\n",
        "\n",
        "    convo_records[i]['topic_name'] = topic_name\n",
        "    convo_records[i]['probs_per_topic'] = probs[i]"
      ]
    },
    {
      "cell_type": "code",
      "execution_count": null,
      "metadata": {
        "id": "b8NEgvVswkxW"
      },
      "outputs": [],
      "source": [
        "label_records[6]"
      ]
    },
    {
      "cell_type": "code",
      "execution_count": null,
      "metadata": {
        "id": "RzAv8uX_wsLF"
      },
      "outputs": [],
      "source": [
        "convo_records[0]"
      ]
    },
    {
      "cell_type": "markdown",
      "metadata": {
        "id": "T09MENr2qQZs"
      },
      "source": [
        "## Filter out conversations by labels to make it easier to send to firebase"
      ]
    },
    {
      "cell_type": "code",
      "execution_count": null,
      "metadata": {
        "id": "DiMdLpUHpImy"
      },
      "outputs": [],
      "source": [
        "sorted_conv = {}\n",
        "for record in label_records:\n",
        "  for conv in convo_records:\n",
        "    if record['topic'] == conv['topic']:\n",
        "      if record['topic'] not in sorted_conv.keys():\n",
        "        sorted_conv[record['topic']] = [conv]\n",
        "      else:\n",
        "        sorted_conv[record['topic']].append(conv)"
      ]
    },
    {
      "cell_type": "code",
      "execution_count": null,
      "metadata": {
        "colab": {
          "base_uri": "https://localhost:8080/"
        },
        "id": "fSA1ExlVw8AG",
        "outputId": "eb495858-b432-401f-fb2a-68107a3a8f98"
      },
      "outputs": [
        {
          "data": {
            "text/plain": [
              "{'convo_id': '113637694.52.52',\n",
              " 'total_personal_attacks': 1,\n",
              " 'average_toxicity': nan,\n",
              " 'start_time': 1173381372.0,\n",
              " 'topic': 2,\n",
              " 'topic_name': 'men_characters_episode_episodes',\n",
              " 'probs_per_topic': 1.0}"
            ]
          },
          "execution_count": 31,
          "metadata": {},
          "output_type": "execute_result"
        }
      ],
      "source": [
        "sorted_conv[2][1]"
      ]
    },
    {
      "cell_type": "markdown",
      "metadata": {
        "id": "wrmiEHUKqfz0"
      },
      "source": [
        "## Save to Firebase"
      ]
    },
    {
      "cell_type": "code",
      "execution_count": null,
      "metadata": {
        "id": "0am9i2JjmSIi"
      },
      "outputs": [],
      "source": [
        "for i, label_record in enumerate(label_records):\n",
        "    topic = label_record['topic']\n",
        "    topic_id = str(i)\n",
        "    db.collection('topics').document(topic_id).set(label_record)\n",
        "    for j, convo_record in enumerate(sorted_conv[topic]):\n",
        "        convo_id = convo_record['convo_id']\n",
        "        db.collection('topics').document(topic_id).collection('convosations').document(convo_id).set(convo_record)\n",
        "print('done')"
      ]
    },
    {
      "cell_type": "code",
      "execution_count": null,
      "metadata": {
        "id": "AAEsm6woQ7YT"
      },
      "outputs": [],
      "source": [
        "for i, record in enumerate(convo_records):\n",
        "    convo_id = record['convo_id']\n",
        "    db.collection('convo_topics').document(convo_id).set(record)"
      ]
    }
  ],
  "metadata": {
    "accelerator": "GPU",
    "colab": {
      "provenance": []
    },
    "kernelspec": {
      "display_name": "Python 3",
      "name": "python3"
    },
    "language_info": {
      "name": "python"
    }
  },
  "nbformat": 4,
  "nbformat_minor": 0
}